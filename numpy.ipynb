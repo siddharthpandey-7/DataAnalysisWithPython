{
 "cells": [
  {
   "cell_type": "code",
   "execution_count": 1,
   "id": "5458d90c",
   "metadata": {},
   "outputs": [
    {
     "name": "stdout",
     "output_type": "stream",
     "text": [
      "Collecting numpy\n",
      "  Downloading numpy-2.3.1-cp312-cp312-win_amd64.whl.metadata (60 kB)\n",
      "Downloading numpy-2.3.1-cp312-cp312-win_amd64.whl (12.7 MB)\n",
      "   ---------------------------------------- 0.0/12.7 MB ? eta -:--:--\n",
      "   ---------------------------------------- 0.0/12.7 MB ? eta -:--:--\n",
      "    --------------------------------------- 0.3/12.7 MB ? eta -:--:--\n",
      "   - -------------------------------------- 0.5/12.7 MB 840.2 kB/s eta 0:00:15\n",
      "   - -------------------------------------- 0.5/12.7 MB 840.2 kB/s eta 0:00:15\n",
      "   -- ------------------------------------- 0.8/12.7 MB 817.9 kB/s eta 0:00:15\n",
      "   -- ------------------------------------- 0.8/12.7 MB 817.9 kB/s eta 0:00:15\n",
      "   --- ------------------------------------ 1.0/12.7 MB 671.0 kB/s eta 0:00:18\n",
      "   --- ------------------------------------ 1.0/12.7 MB 671.0 kB/s eta 0:00:18\n",
      "   ---- ----------------------------------- 1.3/12.7 MB 657.8 kB/s eta 0:00:18\n",
      "   ---- ----------------------------------- 1.3/12.7 MB 657.8 kB/s eta 0:00:18\n",
      "   ---- ----------------------------------- 1.6/12.7 MB 660.6 kB/s eta 0:00:17\n",
      "   ----- ---------------------------------- 1.8/12.7 MB 699.0 kB/s eta 0:00:16\n",
      "   ----- ---------------------------------- 1.8/12.7 MB 699.0 kB/s eta 0:00:16\n",
      "   ------ --------------------------------- 2.1/12.7 MB 729.3 kB/s eta 0:00:15\n",
      "   ------- -------------------------------- 2.4/12.7 MB 737.4 kB/s eta 0:00:15\n",
      "   ------- -------------------------------- 2.4/12.7 MB 737.4 kB/s eta 0:00:15\n",
      "   ------- -------------------------------- 2.4/12.7 MB 737.4 kB/s eta 0:00:15\n",
      "   -------- ------------------------------- 2.6/12.7 MB 689.4 kB/s eta 0:00:15\n",
      "   -------- ------------------------------- 2.6/12.7 MB 689.4 kB/s eta 0:00:15\n",
      "   --------- ------------------------------ 2.9/12.7 MB 660.5 kB/s eta 0:00:15\n",
      "   --------- ------------------------------ 2.9/12.7 MB 660.5 kB/s eta 0:00:15\n",
      "   --------- ------------------------------ 2.9/12.7 MB 660.5 kB/s eta 0:00:15\n",
      "   --------- ------------------------------ 3.1/12.7 MB 649.9 kB/s eta 0:00:15\n",
      "   --------- ------------------------------ 3.1/12.7 MB 649.9 kB/s eta 0:00:15\n",
      "   ---------- ----------------------------- 3.4/12.7 MB 633.1 kB/s eta 0:00:15\n",
      "   ---------- ----------------------------- 3.4/12.7 MB 633.1 kB/s eta 0:00:15\n",
      "   ---------- ----------------------------- 3.4/12.7 MB 633.1 kB/s eta 0:00:15\n",
      "   ----------- ---------------------------- 3.7/12.7 MB 617.8 kB/s eta 0:00:15\n",
      "   ------------ --------------------------- 3.9/12.7 MB 628.0 kB/s eta 0:00:15\n",
      "   ------------ --------------------------- 3.9/12.7 MB 628.0 kB/s eta 0:00:15\n",
      "   ------------- -------------------------- 4.2/12.7 MB 640.3 kB/s eta 0:00:14\n",
      "   ------------- -------------------------- 4.5/12.7 MB 648.4 kB/s eta 0:00:13\n",
      "   ------------- -------------------------- 4.5/12.7 MB 648.4 kB/s eta 0:00:13\n",
      "   -------------- ------------------------- 4.7/12.7 MB 645.3 kB/s eta 0:00:13\n",
      "   -------------- ------------------------- 4.7/12.7 MB 645.3 kB/s eta 0:00:13\n",
      "   -------------- ------------------------- 4.7/12.7 MB 645.3 kB/s eta 0:00:13\n",
      "   --------------- ------------------------ 5.0/12.7 MB 637.1 kB/s eta 0:00:13\n",
      "   --------------- ------------------------ 5.0/12.7 MB 637.1 kB/s eta 0:00:13\n",
      "   ---------------- ----------------------- 5.2/12.7 MB 630.0 kB/s eta 0:00:12\n",
      "   ---------------- ----------------------- 5.2/12.7 MB 630.0 kB/s eta 0:00:12\n",
      "   ----------------- ---------------------- 5.5/12.7 MB 633.1 kB/s eta 0:00:12\n",
      "   ----------------- ---------------------- 5.5/12.7 MB 633.1 kB/s eta 0:00:12\n",
      "   ------------------ --------------------- 5.8/12.7 MB 636.0 kB/s eta 0:00:11\n",
      "   ------------------ --------------------- 5.8/12.7 MB 636.0 kB/s eta 0:00:11\n",
      "   ------------------ --------------------- 6.0/12.7 MB 639.7 kB/s eta 0:00:11\n",
      "   ------------------ --------------------- 6.0/12.7 MB 639.7 kB/s eta 0:00:11\n",
      "   ------------------- -------------------- 6.3/12.7 MB 638.9 kB/s eta 0:00:11\n",
      "   -------------------- ------------------- 6.6/12.7 MB 644.2 kB/s eta 0:00:10\n",
      "   -------------------- ------------------- 6.6/12.7 MB 644.2 kB/s eta 0:00:10\n",
      "   --------------------- ------------------ 6.8/12.7 MB 649.3 kB/s eta 0:00:10\n",
      "   ---------------------- ----------------- 7.1/12.7 MB 654.0 kB/s eta 0:00:09\n",
      "   ---------------------- ----------------- 7.1/12.7 MB 654.0 kB/s eta 0:00:09\n",
      "   ----------------------- ---------------- 7.3/12.7 MB 652.7 kB/s eta 0:00:09\n",
      "   ----------------------- ---------------- 7.3/12.7 MB 652.7 kB/s eta 0:00:09\n",
      "   ----------------------- ---------------- 7.6/12.7 MB 656.1 kB/s eta 0:00:08\n",
      "   ----------------------- ---------------- 7.6/12.7 MB 656.1 kB/s eta 0:00:08\n",
      "   ------------------------ --------------- 7.9/12.7 MB 649.6 kB/s eta 0:00:08\n",
      "   ------------------------ --------------- 7.9/12.7 MB 649.6 kB/s eta 0:00:08\n",
      "   ------------------------ --------------- 7.9/12.7 MB 649.6 kB/s eta 0:00:08\n",
      "   ------------------------- -------------- 8.1/12.7 MB 639.5 kB/s eta 0:00:08\n",
      "   ------------------------- -------------- 8.1/12.7 MB 639.5 kB/s eta 0:00:08\n",
      "   -------------------------- ------------- 8.4/12.7 MB 642.9 kB/s eta 0:00:07\n",
      "   --------------------------- ------------ 8.7/12.7 MB 647.6 kB/s eta 0:00:07\n",
      "   --------------------------- ------------ 8.7/12.7 MB 647.6 kB/s eta 0:00:07\n",
      "   --------------------------- ------------ 8.9/12.7 MB 656.0 kB/s eta 0:00:06\n",
      "   ---------------------------- ----------- 9.2/12.7 MB 664.1 kB/s eta 0:00:06\n",
      "   ----------------------------- ---------- 9.4/12.7 MB 671.9 kB/s eta 0:00:05\n",
      "   ------------------------------ --------- 9.7/12.7 MB 678.6 kB/s eta 0:00:05\n",
      "   ------------------------------- -------- 10.0/12.7 MB 684.4 kB/s eta 0:00:05\n",
      "   -------------------------------- ------- 10.2/12.7 MB 689.2 kB/s eta 0:00:04\n",
      "   -------------------------------- ------- 10.2/12.7 MB 689.2 kB/s eta 0:00:04\n",
      "   -------------------------------- ------- 10.5/12.7 MB 694.6 kB/s eta 0:00:04\n",
      "   --------------------------------- ------ 10.7/12.7 MB 699.0 kB/s eta 0:00:03\n",
      "   ---------------------------------- ----- 11.0/12.7 MB 704.0 kB/s eta 0:00:03\n",
      "   ----------------------------------- ---- 11.3/12.7 MB 709.6 kB/s eta 0:00:03\n",
      "   ------------------------------------ --- 11.5/12.7 MB 716.4 kB/s eta 0:00:02\n",
      "   ------------------------------------ --- 11.5/12.7 MB 716.4 kB/s eta 0:00:02\n",
      "   ------------------------------------- -- 11.8/12.7 MB 720.9 kB/s eta 0:00:02\n",
      "   ------------------------------------- -- 12.1/12.7 MB 720.4 kB/s eta 0:00:01\n",
      "   ------------------------------------- -- 12.1/12.7 MB 720.4 kB/s eta 0:00:01\n",
      "   -------------------------------------- - 12.3/12.7 MB 723.3 kB/s eta 0:00:01\n",
      "   ---------------------------------------  12.6/12.7 MB 728.8 kB/s eta 0:00:01\n",
      "   ---------------------------------------- 12.7/12.7 MB 728.3 kB/s eta 0:00:00\n",
      "Installing collected packages: numpy\n",
      "Successfully installed numpy-2.3.1\n"
     ]
    }
   ],
   "source": [
    "!pip install numpy"
   ]
  },
  {
   "cell_type": "code",
   "execution_count": 2,
   "id": "27f006af",
   "metadata": {},
   "outputs": [
    {
     "name": "stdout",
     "output_type": "stream",
     "text": [
      "[1 2 3 4 5]\n",
      "<class 'numpy.ndarray'>\n",
      "(5,)\n"
     ]
    }
   ],
   "source": [
    "import numpy as np\n",
    "\n",
    "# create array using numpy\n",
    "# create a 1D array\n",
    "arr1= np.array([1,2,3,4,5]) \n",
    "print(arr1)\n",
    "print(type(arr1))\n",
    "print(arr1.shape)\n"
   ]
  },
  {
   "cell_type": "code",
   "execution_count": null,
   "id": "cdfa2b1c",
   "metadata": {},
   "outputs": [
    {
     "data": {
      "text/plain": [
       "array([[1, 2, 3, 4, 5]])"
      ]
     },
     "execution_count": 3,
     "metadata": {},
     "output_type": "execute_result"
    }
   ],
   "source": [
    "# 1 d array\n",
    "arr2=np.array([1,2,3,4,5])\n",
    "arr2.reshape(1,5)  #1 row and 5 columns\n",
    "\n",
    "# array([[1, 2, 3, 4, 5]]) this two opening and closing brackets mean it is 2d array [[ ]]"
   ]
  },
  {
   "cell_type": "code",
   "execution_count": 4,
   "id": "b13d2bc6",
   "metadata": {},
   "outputs": [
    {
     "data": {
      "text/plain": [
       "(1, 5)"
      ]
     },
     "execution_count": 4,
     "metadata": {},
     "output_type": "execute_result"
    }
   ],
   "source": [
    "arr2= np.array([[1,2,3,4,5]])\n",
    "arr2.shape"
   ]
  },
  {
   "cell_type": "code",
   "execution_count": null,
   "id": "c12b4fb5",
   "metadata": {},
   "outputs": [
    {
     "name": "stdout",
     "output_type": "stream",
     "text": [
      "[[1 2 3 4 5]\n",
      " [2 3 4 5 6]]\n",
      "(2, 5)\n"
     ]
    }
   ],
   "source": [
    "# 2d array\n",
    "arr2= np.array([[1,2,3,4,5],[2,3,4,5,6]])\n",
    "print(arr2)\n",
    "print(arr2.shape)\n"
   ]
  },
  {
   "cell_type": "code",
   "execution_count": 7,
   "id": "3512c6cc",
   "metadata": {},
   "outputs": [
    {
     "data": {
      "text/plain": [
       "array([0, 2, 4, 6, 8])"
      ]
     },
     "execution_count": 7,
     "metadata": {},
     "output_type": "execute_result"
    }
   ],
   "source": [
    "np.arange(0,10,2)"
   ]
  },
  {
   "cell_type": "code",
   "execution_count": 8,
   "id": "3a7d0e98",
   "metadata": {},
   "outputs": [
    {
     "data": {
      "text/plain": [
       "array([[0],\n",
       "       [2],\n",
       "       [4],\n",
       "       [6],\n",
       "       [8]])"
      ]
     },
     "execution_count": 8,
     "metadata": {},
     "output_type": "execute_result"
    }
   ],
   "source": [
    "np.arange(0,10,2).reshape(5,1)"
   ]
  },
  {
   "cell_type": "code",
   "execution_count": 9,
   "id": "3d375453",
   "metadata": {},
   "outputs": [
    {
     "data": {
      "text/plain": [
       "array([[1., 1., 1., 1.],\n",
       "       [1., 1., 1., 1.],\n",
       "       [1., 1., 1., 1.]])"
      ]
     },
     "execution_count": 9,
     "metadata": {},
     "output_type": "execute_result"
    }
   ],
   "source": [
    "np.ones((3,4))"
   ]
  },
  {
   "cell_type": "code",
   "execution_count": 11,
   "id": "e6014bcb",
   "metadata": {},
   "outputs": [
    {
     "data": {
      "text/plain": [
       "array([[1., 0., 0.],\n",
       "       [0., 1., 0.],\n",
       "       [0., 0., 1.]])"
      ]
     },
     "execution_count": 11,
     "metadata": {},
     "output_type": "execute_result"
    }
   ],
   "source": [
    "# identity matrix\n",
    "np.eye(3)"
   ]
  },
  {
   "cell_type": "code",
   "execution_count": 19,
   "id": "cf63806e",
   "metadata": {},
   "outputs": [
    {
     "name": "stdout",
     "output_type": "stream",
     "text": [
      "Array:\n",
      " [[1 2 3]\n",
      " [4 5 6]]\n",
      "Shape: (2, 3)\n",
      "Number of dimensions: 2\n",
      "Size (number of elements): 6\n",
      "Data type: int64\n",
      "Item size (in bytes): 8\n"
     ]
    }
   ],
   "source": [
    "arr = np.array([[1,2,3], [4,5,6]])\n",
    "\n",
    "print(\"Array:\\n\", arr)\n",
    "print(\"Shape:\", arr.shape)  # Output: (2,3)\n",
    "print(\"Number of dimensions:\", arr.ndim) # Output: 2\n",
    "print(\"Size (number of elements):\", arr.size) # Output: 6\n",
    "print(\"Data type:\", arr.dtype) # Output: int64 (may vary based on platform)\n",
    "print(\"Item size (in bytes):\", arr.itemsize)  # Output: 8 (may vary based on platform)\n",
    "\n"
   ]
  },
  {
   "cell_type": "code",
   "execution_count": 20,
   "id": "bae7e252",
   "metadata": {},
   "outputs": [
    {
     "name": "stdout",
     "output_type": "stream",
     "text": [
      "Addition: [11 22 33 44 55]\n",
      "Subtraction: [ -9 -18 -27 -36 -45]\n",
      "Multiplication: [ 10  40  90 160 250]\n",
      "Division [0.1 0.1 0.1 0.1 0.1]\n"
     ]
    }
   ],
   "source": [
    "# Numpy Vectorized Operation\n",
    "arr1=np.array([1,2,3,4,5])\n",
    "arr2=np.array([10,20,30,40,50])\n",
    "\n",
    "# Element wise addition\n",
    "print(\"Addition:\", arr1+arr2)\n",
    "\n",
    "# Element wise Subtraction\n",
    "print(\"Subtraction:\", arr1-arr2)\n",
    "\n",
    "# Element wise Multiplication\n",
    "print(\"Multiplication:\", arr1*arr2)\n",
    "\n",
    "# Element wise division\n",
    "print(\"Division\", arr1 / arr2)"
   ]
  },
  {
   "cell_type": "code",
   "execution_count": 22,
   "id": "9b0bc2b6",
   "metadata": {},
   "outputs": [
    {
     "name": "stdout",
     "output_type": "stream",
     "text": [
      "[1.41421356 1.73205081 2.         2.23606798 2.44948974]\n",
      "[  7.3890561   20.08553692  54.59815003 148.4131591  403.42879349]\n",
      "[ 0.90929743  0.14112001 -0.7568025  -0.95892427 -0.2794155 ]\n",
      "[0.69314718 1.09861229 1.38629436 1.60943791 1.79175947]\n"
     ]
    }
   ],
   "source": [
    "# Universal Function\n",
    "arr=np.array([2,3,4,5,6])\n",
    "\n",
    "# square root\n",
    "print(np.sqrt(arr))\n",
    "\n",
    "# Exponential\n",
    "print(np.exp(arr))\n",
    "\n",
    "# Sine\n",
    "print(np.sin(arr))\n",
    "\n",
    "# natural log\n",
    "print(np.log(arr))"
   ]
  },
  {
   "cell_type": "code",
   "execution_count": 23,
   "id": "a452daab",
   "metadata": {},
   "outputs": [
    {
     "name": "stdout",
     "output_type": "stream",
     "text": [
      "Array : \n",
      " [[ 1  2  3  4]\n",
      " [ 5  6  7  8]\n",
      " [ 9 10 11 12]]\n"
     ]
    }
   ],
   "source": [
    "# array slicing and Indexing\n",
    "arr=np.array([[1,2,3,4],[5,6,7,8],[9,10,11,12]])\n",
    "print(\"Array : \\n\", arr)"
   ]
  },
  {
   "cell_type": "code",
   "execution_count": 24,
   "id": "2fb16afd",
   "metadata": {},
   "outputs": [
    {
     "data": {
      "text/plain": [
       "array([[ 1,  2,  3,  4],\n",
       "       [ 5,  6,  7,  8],\n",
       "       [ 9, 10, 11, 12]])"
      ]
     },
     "execution_count": 24,
     "metadata": {},
     "output_type": "execute_result"
    }
   ],
   "source": [
    "arr"
   ]
  },
  {
   "cell_type": "code",
   "execution_count": 25,
   "id": "3858d44c",
   "metadata": {},
   "outputs": [
    {
     "data": {
      "text/plain": [
       "array([1, 2, 3, 4])"
      ]
     },
     "execution_count": 25,
     "metadata": {},
     "output_type": "execute_result"
    }
   ],
   "source": [
    "arr[0]"
   ]
  },
  {
   "cell_type": "code",
   "execution_count": 31,
   "id": "563454e8",
   "metadata": {},
   "outputs": [
    {
     "data": {
      "text/plain": [
       "np.int64(1)"
      ]
     },
     "execution_count": 31,
     "metadata": {},
     "output_type": "execute_result"
    }
   ],
   "source": [
    "arr[0][0]"
   ]
  },
  {
   "cell_type": "code",
   "execution_count": 28,
   "id": "ef316f0d",
   "metadata": {},
   "outputs": [
    {
     "data": {
      "text/plain": [
       "array([[ 5,  6,  7,  8],\n",
       "       [ 9, 10, 11, 12]])"
      ]
     },
     "execution_count": 28,
     "metadata": {},
     "output_type": "execute_result"
    }
   ],
   "source": [
    "arr[1:]"
   ]
  },
  {
   "cell_type": "code",
   "execution_count": 29,
   "id": "1bbfbde0",
   "metadata": {},
   "outputs": [
    {
     "data": {
      "text/plain": [
       "array([[ 7,  8],\n",
       "       [11, 12]])"
      ]
     },
     "execution_count": 29,
     "metadata": {},
     "output_type": "execute_result"
    }
   ],
   "source": [
    "arr[1:,2:]"
   ]
  },
  {
   "cell_type": "code",
   "execution_count": 32,
   "id": "7c5eaa19",
   "metadata": {},
   "outputs": [
    {
     "name": "stdout",
     "output_type": "stream",
     "text": [
      "1\n",
      "[[1 2 3 4]\n",
      " [5 6 7 8]]\n"
     ]
    }
   ],
   "source": [
    "print(arr[0][0])\n",
    "print(arr[0:2])"
   ]
  },
  {
   "cell_type": "code",
   "execution_count": 33,
   "id": "71400edc",
   "metadata": {},
   "outputs": [
    {
     "name": "stdout",
     "output_type": "stream",
     "text": [
      "1\n",
      "[[3 4]\n",
      " [7 8]]\n"
     ]
    }
   ],
   "source": [
    "print(arr[0][0])\n",
    "print(arr[0:2,2:])"
   ]
  },
  {
   "cell_type": "code",
   "execution_count": 34,
   "id": "e6ebc6c5",
   "metadata": {},
   "outputs": [
    {
     "name": "stdout",
     "output_type": "stream",
     "text": [
      "[[ 5  6  7  8]\n",
      " [ 9 10 11 12]]\n"
     ]
    }
   ],
   "source": [
    "print(arr[1:])"
   ]
  },
  {
   "cell_type": "code",
   "execution_count": 35,
   "id": "db836bc2",
   "metadata": {},
   "outputs": [
    {
     "name": "stdout",
     "output_type": "stream",
     "text": [
      "[[ 6  7]\n",
      " [10 11]]\n"
     ]
    }
   ],
   "source": [
    "print(arr[1:,1:3])"
   ]
  },
  {
   "cell_type": "code",
   "execution_count": 36,
   "id": "40faf9a1",
   "metadata": {},
   "outputs": [
    {
     "name": "stdout",
     "output_type": "stream",
     "text": [
      "[[100   2   3   4]\n",
      " [  5   6   7   8]\n",
      " [  9  10  11  12]]\n"
     ]
    }
   ],
   "source": [
    "# Modify array elements\n",
    "arr[0,0]=100\n",
    "print(arr)"
   ]
  },
  {
   "cell_type": "code",
   "execution_count": 37,
   "id": "87ae08eb",
   "metadata": {},
   "outputs": [
    {
     "name": "stdout",
     "output_type": "stream",
     "text": [
      "[[100   2   3   4]\n",
      " [100 100 100 100]\n",
      " [100 100 100 100]]\n"
     ]
    }
   ],
   "source": [
    "arr[1:]=100\n",
    "print(arr)"
   ]
  },
  {
   "cell_type": "code",
   "execution_count": 40,
   "id": "75431b96",
   "metadata": {},
   "outputs": [
    {
     "name": "stdout",
     "output_type": "stream",
     "text": [
      "Normalized data: [-1.41421356 -0.70710678  0.          0.70710678  1.41421356]\n"
     ]
    }
   ],
   "source": [
    "# statistical concepts - Normalization\n",
    "# to have a mean of 0 and standard deviation of 1\n",
    "data= np.array([1,2,3,4,5])\n",
    "\n",
    "# Calculate the mean and standard deviation\n",
    "mean = np.mean(data)\n",
    "std_dev = np.std(data)\n",
    "\n",
    "# Normalize the data\n",
    "normalized_data = (data - mean) / std_dev\n",
    "print(\"Normalized data:\", normalized_data)"
   ]
  },
  {
   "cell_type": "code",
   "execution_count": 41,
   "id": "a4bf1588",
   "metadata": {},
   "outputs": [
    {
     "name": "stdout",
     "output_type": "stream",
     "text": [
      "Mean: 5.5\n",
      "Median: 5.5\n",
      "Standard Deviation: 2.8722813232690143\n",
      "Variance: 8.25\n"
     ]
    }
   ],
   "source": [
    "data = np.array([1,2,3,4,5,6,7,8,9,10])\n",
    "\n",
    "# Mean\n",
    "mean = np.mean(data)\n",
    "print(\"Mean:\", mean)\n",
    "\n",
    "# Median\n",
    "median= np.median(data)\n",
    "print(\"Median:\", median)\n",
    "\n",
    "# Standard deviation\n",
    "std_dev = np.std(data)\n",
    "print(\"Standard Deviation:\", std_dev)\n",
    "\n",
    "\n",
    "# Variance \n",
    "variance = np.var(data)\n",
    "print(\"Variance:\", variance)"
   ]
  },
  {
   "cell_type": "code",
   "execution_count": 42,
   "id": "d72ec262",
   "metadata": {},
   "outputs": [
    {
     "data": {
      "text/plain": [
       "array([ 6,  7,  8,  9, 10])"
      ]
     },
     "execution_count": 42,
     "metadata": {},
     "output_type": "execute_result"
    }
   ],
   "source": [
    "# Logical operation\n",
    "data=np.array([1,2,3,4,5,6,7,8,9,10])\n",
    "\n",
    "data[data>5]"
   ]
  },
  {
   "cell_type": "code",
   "execution_count": 44,
   "id": "a8698de0",
   "metadata": {},
   "outputs": [
    {
     "data": {
      "text/plain": [
       "array([5, 6, 7, 8])"
      ]
     },
     "execution_count": 44,
     "metadata": {},
     "output_type": "execute_result"
    }
   ],
   "source": [
    "data=np.array([1,2,3,4,5,6,7,8,9,10])\n",
    "\n",
    "data[(data>=5) & (data<=8)]"
   ]
  },
  {
   "cell_type": "code",
   "execution_count": 45,
   "id": "49efc1ef",
   "metadata": {},
   "outputs": [
    {
     "data": {
      "text/plain": [
       "array([ 1,  2,  3,  4,  5,  6,  7,  8,  9, 10])"
      ]
     },
     "execution_count": 45,
     "metadata": {},
     "output_type": "execute_result"
    }
   ],
   "source": [
    "data=np.array([1,2,3,4,5,6,7,8,9,10])\n",
    "\n",
    "data[(data>=5) | (data<=8)]"
   ]
  }
 ],
 "metadata": {
  "kernelspec": {
   "display_name": "Python 3",
   "language": "python",
   "name": "python3"
  },
  "language_info": {
   "codemirror_mode": {
    "name": "ipython",
    "version": 3
   },
   "file_extension": ".py",
   "mimetype": "text/x-python",
   "name": "python",
   "nbconvert_exporter": "python",
   "pygments_lexer": "ipython3",
   "version": "3.12.0"
  }
 },
 "nbformat": 4,
 "nbformat_minor": 5
}
